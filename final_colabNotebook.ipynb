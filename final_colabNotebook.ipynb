{
  "nbformat": 4,
  "nbformat_minor": 0,
  "metadata": {
    "kernelspec": {
      "display_name": "Python 3",
      "language": "python",
      "name": "python3"
    },
    "language_info": {
      "codemirror_mode": {
        "name": "ipython",
        "version": 3
      },
      "file_extension": ".py",
      "mimetype": "text/x-python",
      "name": "python",
      "nbconvert_exporter": "python",
      "pygments_lexer": "ipython3",
      "version": "3.7.7"
    },
    "colab": {
      "name": "final colabNotebook.ipynb",
      "provenance": [],
      "collapsed_sections": []
    },
    "accelerator": "GPU"
  },
  "cells": [
    {
      "cell_type": "code",
      "metadata": {
        "id": "YIHley1_jgSN",
        "colab_type": "code",
        "colab": {
          "base_uri": "https://localhost:8080/",
          "height": 123
        },
        "outputId": "010f913f-01f2-41a2-e4d1-39692925b572"
      },
      "source": [
        "import numpy as np\n",
        "import pandas as pd\n",
        "import matplotlib.pyplot as plt\n",
        "from string import digits\n",
        "from nltk.tokenize import RegexpTokenizer\n",
        "from tensorflow.keras.utils import plot_model\n",
        "from keras.layers import Embedding, SpatialDropout1D, LSTM, BatchNormalization, Dropout, Dense\n",
        "from keras.models import Sequential\n",
        "from keras.callbacks import EarlyStopping, ModelCheckpoint\n",
        "from keras.preprocessing.text import Tokenizer\n",
        "import tensorflow as tf\n",
        "from nltk.corpus import stopwords\n",
        "import string\n",
        "import nltk\n",
        "nltk.download('words')\n",
        "nltk.download('stopwords')"
      ],
      "execution_count": 1,
      "outputs": [
        {
          "output_type": "stream",
          "text": [
            "Using TensorFlow backend.\n"
          ],
          "name": "stderr"
        },
        {
          "output_type": "stream",
          "text": [
            "[nltk_data] Downloading package words to /root/nltk_data...\n",
            "[nltk_data]   Unzipping corpora/words.zip.\n",
            "[nltk_data] Downloading package stopwords to /root/nltk_data...\n",
            "[nltk_data]   Unzipping corpora/stopwords.zip.\n"
          ],
          "name": "stdout"
        },
        {
          "output_type": "execute_result",
          "data": {
            "text/plain": [
              "True"
            ]
          },
          "metadata": {
            "tags": []
          },
          "execution_count": 1
        }
      ]
    },
    {
      "cell_type": "markdown",
      "metadata": {
        "id": "8uwYDDzDneNT",
        "colab_type": "text"
      },
      "source": [
        "# Mount Drive"
      ]
    },
    {
      "cell_type": "code",
      "metadata": {
        "id": "p0Ecz-wqmSsK",
        "colab_type": "code",
        "colab": {
          "base_uri": "https://localhost:8080/",
          "height": 125
        },
        "outputId": "21a7ae20-3d29-460c-b71f-46be626ff4ed"
      },
      "source": [
        "from google.colab import drive\n",
        "drive.mount('/content/drive')"
      ],
      "execution_count": 2,
      "outputs": [
        {
          "output_type": "stream",
          "text": [
            "Go to this URL in a browser: https://accounts.google.com/o/oauth2/auth?client_id=947318989803-6bn6qk8qdgf4n4g3pfee6491hc0brc4i.apps.googleusercontent.com&redirect_uri=urn%3aietf%3awg%3aoauth%3a2.0%3aoob&response_type=code&scope=email%20https%3a%2f%2fwww.googleapis.com%2fauth%2fdocs.test%20https%3a%2f%2fwww.googleapis.com%2fauth%2fdrive%20https%3a%2f%2fwww.googleapis.com%2fauth%2fdrive.photos.readonly%20https%3a%2f%2fwww.googleapis.com%2fauth%2fpeopleapi.readonly\n",
            "\n",
            "Enter your authorization code:\n",
            "··········\n",
            "Mounted at /content/drive\n"
          ],
          "name": "stdout"
        }
      ]
    },
    {
      "cell_type": "code",
      "metadata": {
        "id": "dnCdOLkwjgSZ",
        "colab_type": "code",
        "colab": {}
      },
      "source": [
        "token = RegexpTokenizer(\"[\\w']+\")\n",
        "sw = stopwords.words('english')\n",
        "words = set(nltk.corpus.words.words())"
      ],
      "execution_count": 3,
      "outputs": []
    },
    {
      "cell_type": "markdown",
      "metadata": {
        "id": "jJisDBrsnvcS",
        "colab_type": "text"
      },
      "source": [
        "# Get data sets and preprocessing fuctions"
      ]
    },
    {
      "cell_type": "code",
      "metadata": {
        "id": "fc61J5cgjgTX",
        "colab_type": "code",
        "colab": {}
      },
      "source": [
        "def get_datasets(): \n",
        "    columnLabels = ['country', 'id', 'title', 'c1', 'c2', 'c3', 'description', 'price', 'type']\n",
        "    train = pd.read_csv(\"/content/drive/My Drive/product title classification/data_train.csv\", names=columnLabels)\n",
        "    test = pd.read_csv(\"/content/drive/My Drive/product title classification/data_test.csv\", names=columnLabels)\n",
        "    return train, test\n",
        "\n",
        "def preprocess_df(dataframe): \n",
        "    df = pd.DataFrame()\n",
        "    #tokenize and convert to lower case\n",
        "    dataframe['title'] = dataframe['title'].apply(lambda x: token.tokenize(x.lower()))\n",
        "    #stopword removal\n",
        "    dataframe['title'] = dataframe['title'].apply(lambda x: ' '.join([w for w in x if w not in sw]))\n",
        "    #remove punctuations and other symbols\n",
        "    dataframe['title'] = dataframe['title'].apply(lambda x: [w for w in nltk.wordpunct_tokenize(x)\\\n",
        "                                                             if w is not w.isalpha() and not w.isnumeric()])\n",
        "    #remove digits\n",
        "    dataframe['title'] = dataframe['title'].apply(lambda x: [w.translate({ord(k): None for k in digits}) for w in x])\n",
        "    #remove single length words\n",
        "    dataframe['title'] = dataframe['title'].apply(lambda x: ' '.join([w for w in x if len(w)>1]))\n",
        "    \n",
        "    df['title'] = dataframe['title'].values\n",
        "  \n",
        "    df['c1'] = dataframe['c1'].values\n",
        "    df['c2'] = dataframe['c2'].values\n",
        "    df['c3'] = dataframe['c3'].values\n",
        "    df['c3'] = df['c3'].replace(np.nan, 'none', regex=True)\n",
        "    \n",
        "    return df\n",
        "    "
      ],
      "execution_count": 4,
      "outputs": []
    },
    {
      "cell_type": "code",
      "metadata": {
        "id": "F8XClmQWjgTg",
        "colab_type": "code",
        "colab": {
          "base_uri": "https://localhost:8080/",
          "height": 485
        },
        "outputId": "f4e49e9f-8ff3-46f9-ef43-b78610aeac78"
      },
      "source": [
        "train_df, test_df = get_datasets()\n",
        "tCol_df = preprocess_df(train_df)\n",
        "tCol_df_test = preprocess_df(test_df)\n",
        "print(train_df.c1.value_counts().plot(kind = 'bar', title = 'TrainCount(c1)'))"
      ],
      "execution_count": 5,
      "outputs": [
        {
          "output_type": "stream",
          "text": [
            "AxesSubplot(0.125,0.125;0.775x0.755)\n"
          ],
          "name": "stdout"
        },
        {
          "output_type": "display_data",
          "data": {
            "image/png": "[encoded data removed]",
            "text/plain": [
              "<Figure size 432x288 with 1 Axes>"
            ]
          },
          "metadata": {
            "tags": [],
            "needs_background": "light"
          }
        }
      ]
    },
    {
      "cell_type": "code",
      "metadata": {
        "id": "sIizPAwAjgUS",
        "colab_type": "code",
        "colab": {}
      },
      "source": [
        "# tCol_df_test"
      ],
      "execution_count": 6,
      "outputs": []
    },
    {
      "cell_type": "markdown",
      "metadata": {
        "id": "pDirWr2foqFf",
        "colab_type": "text"
      },
      "source": [
        "# Create padded input sequences"
      ]
    },
    {
      "cell_type": "code",
      "metadata": {
        "id": "voLN2tgXjgU6",
        "colab_type": "code",
        "colab": {}
      },
      "source": [
        "maxWords = 20000\n",
        "MaxWordLength = 50\n",
        "tokenizer = Tokenizer(num_words = maxWords, filters='!\"#$%&()*+,-./:;<=>?@[\\]^_`{|}~', lower=True)\n",
        "tokenizer.fit_on_texts(tCol_df['title'].values)"
      ],
      "execution_count": 7,
      "outputs": []
    },
    {
      "cell_type": "markdown",
      "metadata": {
        "id": "3dFuBgYdpIXb",
        "colab_type": "text"
      },
      "source": [
        "### Train input data sequences"
      ]
    },
    {
      "cell_type": "code",
      "metadata": {
        "id": "y-kSqPdQjgWZ",
        "colab_type": "code",
        "colab": {
          "base_uri": "https://localhost:8080/",
          "height": 70
        },
        "outputId": "56007621-64e3-4d29-a0bc-b0649593e4bd"
      },
      "source": [
        "train_X_c1 = tokenizer.texts_to_sequences((tCol_df['title']).values )\n",
        "train_X_c1 = tf.keras.preprocessing.sequence.pad_sequences(train_X_c1, maxlen=MaxWordLength)\n",
        "\n",
        "print('Shape of data tensor:', train_X_c1.shape)\n",
        "\n",
        "\n",
        "train_X_c2 = tokenizer.texts_to_sequences((tCol_df['title']+' '+tCol_df['c1']).values )\n",
        "train_X_c2 = tf.keras.preprocessing.sequence.pad_sequences(train_X_c2, maxlen=MaxWordLength)\n",
        "\n",
        "print('Shape of data tensor:', train_X_c2.shape)\n",
        "\n",
        "\n",
        "train_X_c3 = tokenizer.texts_to_sequences((tCol_df['title']+' '+tCol_df['c1']+' '+tCol_df['c2']).values )\n",
        "train_X_c3 = tf.keras.preprocessing.sequence.pad_sequences(train_X_c3, maxlen=MaxWordLength)\n",
        "\n",
        "print('Shape of data tensor:', train_X_c3.shape)"
      ],
      "execution_count": 8,
      "outputs": [
        {
          "output_type": "stream",
          "text": [
            "Shape of data tensor: (36283, 50)\n",
            "Shape of data tensor: (36283, 50)\n",
            "Shape of data tensor: (36283, 50)\n"
          ],
          "name": "stdout"
        }
      ]
    },
    {
      "cell_type": "markdown",
      "metadata": {
        "id": "AzIdSILzpO2i",
        "colab_type": "text"
      },
      "source": [
        "### Test input data sequences"
      ]
    },
    {
      "cell_type": "code",
      "metadata": {
        "id": "sxsbiVmPd2n5",
        "colab_type": "code",
        "colab": {
          "base_uri": "https://localhost:8080/",
          "height": 70
        },
        "outputId": "1b2e8fdd-db80-40d1-b975-3715968a60fe"
      },
      "source": [
        "test_X_c1 = tokenizer.texts_to_sequences((tCol_df_test['title']).values)\n",
        "test_X_c1 = tf.keras.preprocessing.sequence.pad_sequences(test_X_c1, maxlen=MaxWordLength)\n",
        "\n",
        "print('Shape of test data tensor:', test_X_c1.shape)\n",
        "\n",
        "\n",
        "test_X_c2 = tokenizer.texts_to_sequences((tCol_df_test['title']+' '+tCol_df_test['c1']).values)\n",
        "test_X_c2 = tf.keras.preprocessing.sequence.pad_sequences(test_X_c2, maxlen=MaxWordLength)\n",
        "\n",
        "print('Shape of test data tensor:', test_X_c2.shape)\n",
        "\n",
        "\n",
        "test_X_c3 = tokenizer.texts_to_sequences((tCol_df_test['title']+' '+tCol_df_test['c1']+' '+tCol_df_test['c2']).values)\n",
        "test_X_c3 = tf.keras.preprocessing.sequence.pad_sequences(test_X_c3, maxlen=MaxWordLength)\n",
        "\n",
        "print('Shape of test data tensor:', test_X_c3.shape)\n"
      ],
      "execution_count": 9,
      "outputs": [
        {
          "output_type": "stream",
          "text": [
            "Shape of test data tensor: (11838, 50)\n",
            "Shape of test data tensor: (11838, 50)\n",
            "Shape of test data tensor: (11838, 50)\n"
          ],
          "name": "stdout"
        }
      ]
    },
    {
      "cell_type": "markdown",
      "metadata": {
        "id": "fiLZbUtJpWuj",
        "colab_type": "text"
      },
      "source": [
        "# Y-label Encoding"
      ]
    },
    {
      "cell_type": "markdown",
      "metadata": {
        "id": "2aeAlMRNpbz8",
        "colab_type": "text"
      },
      "source": [
        "## Train label encoding"
      ]
    },
    {
      "cell_type": "code",
      "metadata": {
        "id": "-YrO60Yrpd1O",
        "colab_type": "code",
        "colab": {
          "base_uri": "https://localhost:8080/",
          "height": 70
        },
        "outputId": "8bfd169e-4370-46f1-f8f7-c8929844f2d5"
      },
      "source": [
        "train_Y_c1 = pd.get_dummies(tCol_df['c1']).values # one hot encoding\n",
        "print('Shape of label tensor:', train_Y_c1.shape)\n",
        "\n",
        "train_Y_c2 = pd.get_dummies(tCol_df['c2']).values # one hot encoding\n",
        "print('Shape of label tensor:', train_Y_c2.shape)\n",
        "\n",
        "train_Y_c3 = pd.get_dummies(tCol_df['c3']).values # one hot encoding\n",
        "print('Shape of label tensor:', train_Y_c3.shape)\n",
        "\n"
      ],
      "execution_count": 10,
      "outputs": [
        {
          "output_type": "stream",
          "text": [
            "Shape of label tensor: (36283, 9)\n",
            "Shape of label tensor: (36283, 57)\n",
            "Shape of label tensor: (36283, 185)\n"
          ],
          "name": "stdout"
        }
      ]
    },
    {
      "cell_type": "markdown",
      "metadata": {
        "id": "AAfdISi1pjS9",
        "colab_type": "text"
      },
      "source": [
        "## Test label encoding"
      ]
    },
    {
      "cell_type": "code",
      "metadata": {
        "id": "rkRqML5cjgWw",
        "colab_type": "code",
        "colab": {
          "base_uri": "https://localhost:8080/",
          "height": 70
        },
        "outputId": "b3ac389f-f31f-4dde-84b3-c26971aa8a35"
      },
      "source": [
        "test_Y_c1 = pd.get_dummies(tCol_df_test['c1']).values\n",
        "print('Shape of test label tensor:', test_Y_c1.shape)\n",
        "\n",
        "test_Y_c2 = pd.get_dummies(tCol_df_test['c2']).values\n",
        "print('Shape of test label tensor:', test_Y_c2.shape)\n",
        "\n",
        "test_Y_c3 = pd.get_dummies(tCol_df_test['c3']).values\n",
        "print('Shape of test label tensor:', test_Y_c3.shape)"
      ],
      "execution_count": 11,
      "outputs": [
        {
          "output_type": "stream",
          "text": [
            "Shape of test label tensor: (11838, 9)\n",
            "Shape of test label tensor: (11838, 57)\n",
            "Shape of test label tensor: (11838, 185)\n"
          ],
          "name": "stdout"
        }
      ]
    },
    {
      "cell_type": "code",
      "metadata": {
        "id": "q6DI5XauXiQQ",
        "colab_type": "code",
        "colab": {
          "base_uri": "https://localhost:8080/",
          "height": 90
        },
        "outputId": "aab30d2a-0534-4d4a-8974-0907ffac7bb1"
      },
      "source": [
        "#print label decoding sequence\n",
        "\n",
        "labels_c1=sorted(tCol_df['c1'].unique())\n",
        "print(labels_c1)\n",
        "\n",
        "labels_c2=sorted(tCol_df['c2'].unique())\n",
        "print(labels_c2)\n",
        "\n",
        "labels_c3=sorted(tCol_df['c3'].unique())\n",
        "print(labels_c3)\n"
      ],
      "execution_count": 12,
      "outputs": [
        {
          "output_type": "stream",
          "text": [
            "['Cameras', 'Computers & Laptops', 'Fashion', 'Health & Beauty', 'Home & Living', 'Home Appliances', 'Mobiles & Tablets', 'TV, Audio / Video, Gaming & Wearables', 'Watches Sunglasses Jewellery']\n",
            "['Accessories', 'Audio', 'Bath', 'Bath & Body', 'Beauty Tools', 'Bedding', 'Boys', 'Camera Accessories', 'Computer Accessories', 'Computer Components', 'Cooling & Heating', 'DSLR', 'Desktops Computers', 'Drones', 'Eyewear', 'Food Supplements', 'Fragrances', 'Furniture', 'Gadgets', 'Gadgets & Other Cameras', 'Gaming', 'Garment Care', 'Girls', 'Hair Care', 'Home Decor', 'Home Improvement', 'Housekeeping', 'Jewellery', 'Kitchen & Dining', 'Laptops', 'Large Appliances', 'Lenses', 'Lighting', 'Makeup', 'Medical Supplies', 'Men', \"Men's Care\", 'Mirrorless', 'Mobiles', 'Network Components', 'Outdoor & Garden', 'Personal Care', 'Point & Shoot', 'Printers & Accessories', 'Skin Care', 'Small Kitchen Appliances', 'Stationery', 'Storage', 'Storage & Organisation', 'TV Accessories', 'Tablets', 'Televisions', 'Video', 'Video & Action Camcorder', 'Watches', 'Wearable Technology', 'Women']\n",
            "['2-in-1s', 'Accessories', 'Activity Trackers', 'Adapters & Cables', 'Air Conditioners', 'Air Purifiers, Dehumidifiers & Humidifiers', 'All-In-One', 'All-purpose', 'Arts & Crafts', 'Bags', 'Bakeware', 'Bakeware & Pastries', 'Bathroom Accessories', 'Bathroom Fixtures', 'Batteries', 'Battery Adaptors', 'Beauty Supplements', 'Bedding Sets', 'Bedroom Furniture', 'Body Lotion & Butter', 'Body Massage Oil', 'Body Slimming & Electric Massagers', 'Body Soaps & Shower Gels', 'Body and Skin Care', 'Cables', 'Camera Cases, Covers and Bags', 'Car Accessories', 'Car Cameras', 'Chargers', 'Clocks', 'Clothes Organizers', 'Clothing', 'Coffee Machines & Accessories', 'Coffee, Tea & Espresso', 'Comforters, Blankets & Throws', 'Cooking Knives', 'Cooktops', 'Cookware', 'Curtains, Blinds & Shades', 'Decorative Ceiling Lights', 'Decorative Lamps', 'Dermacare', 'Electric Kettles & Thermo Pots', 'Electrical', 'Electronic Cigarettes', 'External hard Drives', 'Eyes', 'Face', 'Face Cleanser', 'Fans', 'Flash Drives', 'Foldable Wardrobes', 'Food Preparation', 'Freezers', 'Fryers', 'Gadgets', 'Gaming', 'Gaming Accessories', 'Gaming Headphones', 'Garment Steamers', 'Graphic Cards', 'Hair Care Accessories', 'Hair Removal Appliances', 'Hair Styling', 'Hair Styling Appliances', 'Hair Treatments', 'Hallway & Entry Furniture', 'Hand & Foot Care', 'Hand Tools', 'Hardware', 'Headphones & Headsets', 'Health Accessories', 'Health Monitors & Tests', 'Home Entertainment', 'Home Office Furniture', 'Hoods', 'Housekeeping & Laundry', 'Injury Support & Braces', 'Ink', 'Internal Hard Drives', 'Irons', 'Juicers & Fruit Extractors', 'Keyboards', 'Kids', 'Kitchen & Dining Furniture', 'Kitchen & Table Linen Accessories', 'Kitchen Storage', 'Kitchen Tools & Accessories', 'LED Televisions', 'Lawn & Garden', 'Lens Accessories', 'Lighting & Studio Equipment', 'Lighting Bulbs & Components', 'Lingerie, Sleep & Lounge', 'Lips', 'Live Sound & Stage', 'Living Room Furniture', 'Mac Accessories', 'Macbooks', 'Makeup Accessories', 'Makeup Kits, Sets, Palettes', 'Mattresses & Protectors', 'Measuring & Levelling', 'Media Players', 'Medical Tests', 'Memory Cards', 'Men', 'Men - Eau De Toilette', 'Mice', 'Microwaves & Ovens', 'Mirrorless Lenses', 'Moisturizers and Cream', 'Monitors', 'Muslim Wear', 'Nails', 'Novelty', 'OTG Drives', 'Oral Care', 'Other Home Decorations', 'Outdoor Décor', 'Outdoor Furniture', 'Outdoor Lighting', 'PS4', 'Paint Supplies', 'Paper Products', 'Phone Cases', 'Pillows & Bolsters', 'Point & Shoot', 'Portable Players', 'Portable Speakers', 'Power Banks', 'Power Tools', 'Power Tools Accessories', 'Printers', 'Projectors', 'RAM', 'Refrigerators', 'Rice Cookers & Steamers', 'Routers', 'Rugs & Carpets', 'Safety & Security', 'Scale & Body Fat Analyzers', 'School & Office Accessories', 'Screen Protectors', 'Security Cameras', 'Sets', 'Sewing Machines', 'Shampoos & Conditioners', 'Shaving', 'Shoes', 'Skin Care Tools', 'Smart Televisions', 'Smart Watches', 'Smartwatches Accessories', 'Solid State Drives', 'Speakers', 'Speciality Cookware', 'Specialty Lights', 'Sports & Action Camera', 'Sports & Action Camera Accessories', 'Sports Nutrition', 'Spy Cameras', 'Tableware', 'Toasters & Sandwich Makers', 'Towels, Mats & Robes', 'Traditional Laptops', 'Tripods & Monopods', 'Vacuum Cleaners', 'Virtual Reality', 'Walkie-Talkies', 'Wall Art', 'Wall Mounts & Protectors', 'Wallets & Accessories', 'Washers & Dryers', 'Water Heaters', 'Water Purifiers & Filters', 'Weight Management', 'Well Being', 'Wireless USB Adapters', 'Women', 'Women - Eau De Parfume', 'Women - Eau De Toilette', 'Women - Fragrance Sets and Minis', 'Writing Utensils', 'none']\n"
          ],
          "name": "stdout"
        }
      ]
    },
    {
      "cell_type": "markdown",
      "metadata": {
        "id": "UUFKu-tSp-XQ",
        "colab_type": "text"
      },
      "source": [
        "# Create NN Architecture and Train Model - Category1"
      ]
    },
    {
      "cell_type": "code",
      "metadata": {
        "scrolled": false,
        "id": "lMhO55v7jgYi",
        "colab_type": "code",
        "colab": {}
      },
      "source": [
        "# c1_count=tCol_df['c1'].nunique()\n",
        "# print(c1_count)\n",
        "# embeddingDimensions = 100\n",
        "# model_c1 = Sequential()\n",
        "# model_c1.add(Embedding(maxWords, embeddingDimensions, input_length = train_X_c1.shape[1]))\n",
        "# model_c1.add(LSTM(512, dropout=0.4, recurrent_dropout = 0.2))\n",
        "# model_c1.add(Dense(128, activation='relu'))\n",
        "# model_c1.add(Dense(c1_count, activation = 'softmax'))\n",
        "# model_c1.compile(loss = 'categorical_crossentropy', optimizer = 'adam', metrics = ['accuracy'])\n",
        "\n",
        "# model_c1.summary()\n",
        "\n",
        "# epochs = 15\n",
        "# batch_size = 64\n",
        "\n",
        "# history1 = model_c1.fit(train_X_c1, train_Y_c1,\n",
        "#                     validation_data=(test_X_c1, test_Y_c1),\n",
        "#                     epochs = epochs, batch_size = batch_size,\n",
        "#                     shuffle = True,\n",
        "#                     # validation_split = 0.1,\\\n",
        "#                     callbacks = [EarlyStopping(monitor = 'val_accuracy', patience =3 , min_delta = 0.0001),\n",
        "#                                  ModelCheckpoint('/content/drive/My Drive/product title classification/h_Models/model_c1/{val_accuracy:.3f}', save_weights_only=False)\n",
        "#                     ]\n",
        "#                     )\n",
        "\n",
        "\n"
      ],
      "execution_count": 13,
      "outputs": []
    },
    {
      "cell_type": "markdown",
      "metadata": {
        "id": "boyaEb9eqNvp",
        "colab_type": "text"
      },
      "source": [
        "# Create NN Architecture and Train Model - Category2"
      ]
    },
    {
      "cell_type": "code",
      "metadata": {
        "id": "FVw_UuiseaW2",
        "colab_type": "code",
        "colab": {}
      },
      "source": [
        "# c2_count=tCol_df['c2'].nunique()\n",
        "# print(c2_count)\n",
        "# embeddingDimensions = 100\n",
        "# model_c2 = Sequential()\n",
        "# model_c2.add(Embedding(maxWords, embeddingDimensions, input_length = train_X_c2.shape[1]))\n",
        "# model_c2.add(LSTM(512, dropout=0.4, recurrent_dropout = 0.2))\n",
        "# model_c2.add(Dense(128, activation='relu'))\n",
        "# model_c2.add(Dense(c2_count, activation = 'softmax'))\n",
        "# model_c2.compile(loss = 'categorical_crossentropy', optimizer = 'adam', metrics = ['accuracy'])\n",
        "\n",
        "# model_c2.summary()\n",
        "\n",
        "# epochs = 15\n",
        "# batch_size = 64\n",
        "\n",
        "# history2 = model_c2.fit(train_X_c2, train_Y_c2,\n",
        "#                     validation_data=(test_X_c2, test_Y_c2),\n",
        "#                     epochs = epochs, batch_size = batch_size,\n",
        "#                     shuffle = True,\n",
        "#                     # validation_split = 0.1,\\\n",
        "#                     callbacks = [EarlyStopping(monitor = 'val_accuracy', patience =3 , min_delta = 0.0001),\n",
        "#                                  ModelCheckpoint('/content/drive/My Drive/product title classification/h_Models/model_c2/{val_accuracy:.3f}', save_weights_only=False)\n",
        "#                     ]\n",
        "#                     )\n",
        "\n",
        "\n"
      ],
      "execution_count": 14,
      "outputs": []
    },
    {
      "cell_type": "markdown",
      "metadata": {
        "id": "hY_cvf4TqU_P",
        "colab_type": "text"
      },
      "source": [
        "# Create NN Architecture and Train Model - Category3"
      ]
    },
    {
      "cell_type": "code",
      "metadata": {
        "id": "3FFMEaVlful2",
        "colab_type": "code",
        "colab": {}
      },
      "source": [
        "# c3_count=tCol_df['c3'].nunique()\n",
        "# print(c3_count)\n",
        "\n",
        "# embeddingDimensions = 100\n",
        "# model_c3 = Sequential()\n",
        "# model_c3.add(Embedding(maxWords, embeddingDimensions, input_length = train_X_c3.shape[1]))\n",
        "# model_c3.add(LSTM(512, dropout=0.4, recurrent_dropout = 0.2))\n",
        "# model_c3.add(Dense(256, activation='relu'))\n",
        "# model_c3.add(Dense(c3_count, activation = 'softmax'))\n",
        "# model_c3.compile(loss = 'categorical_crossentropy', optimizer = 'adam', metrics = ['accuracy'])\n",
        "\n",
        "# model_c3.summary()\n",
        "\n",
        "# epochs = 15\n",
        "# batch_size = 64\n",
        "\n",
        "# history3 = model_c3.fit(train_X_c3, train_Y_c3,\n",
        "#                     validation_data=(test_X_c3, test_Y_c3),\n",
        "#                     epochs = epochs, batch_size = batch_size,\n",
        "#                     shuffle = True,\n",
        "#                     # validation_split = 0.1,\\\n",
        "#                     callbacks = [EarlyStopping(monitor = 'val_accuracy', patience =3 , min_delta = 0.0001),\n",
        "#                                  ModelCheckpoint('/content/drive/My Drive/product title classification/h_Models/model_c3/{val_accuracy:.3f}', save_weights_only=False)\n",
        "#                     ]\n",
        "#                     )\n",
        "\n",
        "\n"
      ],
      "execution_count": 15,
      "outputs": []
    },
    {
      "cell_type": "code",
      "metadata": {
        "id": "ifBikCtMjgYv",
        "colab_type": "code",
        "colab": {}
      },
      "source": [
        "# accs=history1.history['accuracy']\n",
        "# val_accs=history1.history['val_accuracy']\n",
        "# plt.title('ACCURACY (on different runs)')\n",
        "# plt.plot(range(len(accs)), accs, label='Training')\n",
        "# plt.plot(range(len(accs)), val_accs, label='Validation')\n",
        "# plt.legend()\n",
        "# plt.show()"
      ],
      "execution_count": 16,
      "outputs": []
    },
    {
      "cell_type": "code",
      "metadata": {
        "id": "7Apq4zIhDO3L",
        "colab_type": "code",
        "colab": {}
      },
      "source": [
        "# accs=history2.history['accuracy']\n",
        "# val_accs=history2.history['val_accuracy']\n",
        "# plt.title('ACCURACY (on different runs)')\n",
        "# plt.plot(range(len(accs)), accs, label='Training')\n",
        "# plt.plot(range(len(accs)), val_accs, label='Validation')\n",
        "# plt.legend()\n",
        "# plt.show()"
      ],
      "execution_count": 17,
      "outputs": []
    },
    {
      "cell_type": "code",
      "metadata": {
        "id": "5fBccDmpDP_r",
        "colab_type": "code",
        "colab": {}
      },
      "source": [
        "# accs=history3.history['accuracy']\n",
        "# val_accs=history3.history['val_accuracy']\n",
        "# plt.title('ACCURACY (on different runs)')\n",
        "# plt.plot(range(len(accs)), accs, label='Training')\n",
        "# plt.plot(range(len(accs)), val_accs, label='Validation')\n",
        "# plt.legend()\n",
        "# plt.show()"
      ],
      "execution_count": 18,
      "outputs": []
    },
    {
      "cell_type": "code",
      "metadata": {
        "id": "nk5jXWImqjJN",
        "colab_type": "code",
        "colab": {
          "base_uri": "https://localhost:8080/",
          "height": 52
        },
        "outputId": "78c3c2de-a0e7-42f2-d49f-2ccbcfbf79df"
      },
      "source": [
        "import glob\n",
        "import os\n",
        "l = glob.glob('/content/drive/My Drive/product title classification/h_Models/model_c1/*')\n",
        "l = [format(float(os.path.basename(x)), '.3f') for x in l]\n",
        "print(l)\n",
        "m1 = max(l)\n",
        "m1 "
      ],
      "execution_count": 19,
      "outputs": [
        {
          "output_type": "stream",
          "text": [
            "['0.912', '0.925', '0.919', '0.927', '0.928', '0.923', '0.920', '0.921']\n"
          ],
          "name": "stdout"
        },
        {
          "output_type": "execute_result",
          "data": {
            "text/plain": [
              "'0.928'"
            ]
          },
          "metadata": {
            "tags": []
          },
          "execution_count": 19
        }
      ]
    },
    {
      "cell_type": "code",
      "metadata": {
        "id": "oahUqkflitqe",
        "colab_type": "code",
        "colab": {
          "base_uri": "https://localhost:8080/",
          "height": 52
        },
        "outputId": "6c650e22-fe8a-4647-db82-09bf2234afba"
      },
      "source": [
        "l = glob.glob('/content/drive/My Drive/product title classification/h_Models/model_c2/*')\n",
        "l = [format(float(os.path.basename(x)), '.3f') for x in l]\n",
        "print(l)\n",
        "m2 = max(l)\n",
        "m2"
      ],
      "execution_count": 20,
      "outputs": [
        {
          "output_type": "stream",
          "text": [
            "['0.817', '0.866', '0.874', '0.889', '0.822', '0.878', '0.888', '0.887', '0.891', '0.892', '0.884', '0.882', '0.886']\n"
          ],
          "name": "stdout"
        },
        {
          "output_type": "execute_result",
          "data": {
            "text/plain": [
              "'0.892'"
            ]
          },
          "metadata": {
            "tags": []
          },
          "execution_count": 20
        }
      ]
    },
    {
      "cell_type": "code",
      "metadata": {
        "id": "_QS_7nDGiuRD",
        "colab_type": "code",
        "colab": {
          "base_uri": "https://localhost:8080/",
          "height": 52
        },
        "outputId": "7da69c33-973a-4160-8280-4b259aeb10d9"
      },
      "source": [
        "l = glob.glob('/content/drive/My Drive/product title classification/h_Models/model_c3/*')\n",
        "l = [format(float(os.path.basename(x)), '.3f') for x in l]\n",
        "print(l)\n",
        "m3 = max(l)\n",
        "m3"
      ],
      "execution_count": 21,
      "outputs": [
        {
          "output_type": "stream",
          "text": [
            "['0.645', '0.728', '0.766', '0.792', '0.800', '0.807', '0.812', '0.808', '0.810', '0.815', '0.811', '0.814']\n"
          ],
          "name": "stdout"
        },
        {
          "output_type": "execute_result",
          "data": {
            "text/plain": [
              "'0.815'"
            ]
          },
          "metadata": {
            "tags": []
          },
          "execution_count": 21
        }
      ]
    },
    {
      "cell_type": "markdown",
      "metadata": {
        "id": "EK_msj_MvtIQ",
        "colab_type": "text"
      },
      "source": [
        "# Load Model"
      ]
    },
    {
      "cell_type": "code",
      "metadata": {
        "id": "AJL2PomnkDiS",
        "colab_type": "code",
        "colab": {
          "base_uri": "https://localhost:8080/",
          "height": 34
        },
        "outputId": "242b8f2c-dced-49b6-c015-7aba1baa7bac"
      },
      "source": [
        "model_c1=tf.keras.models.load_model('/content/drive/My Drive/product title classification/h_Models/model_c1/{}'.format(m1))"
      ],
      "execution_count": 22,
      "outputs": [
        {
          "output_type": "stream",
          "text": [
            "WARNING:tensorflow:Layer lstm_8 will not use cuDNN kernel since it doesn't meet the cuDNN kernel criteria. It will use generic GPU kernel as fallback when running on GPU\n"
          ],
          "name": "stdout"
        }
      ]
    },
    {
      "cell_type": "code",
      "metadata": {
        "id": "AQ_GuXoggkQf",
        "colab_type": "code",
        "colab": {
          "base_uri": "https://localhost:8080/",
          "height": 34
        },
        "outputId": "560b539d-c60f-4f2d-ca50-8854a06f0d7f"
      },
      "source": [
        "model_c2=tf.keras.models.load_model('/content/drive/My Drive/product title classification/h_Models/model_c2/{}'.format(m2))"
      ],
      "execution_count": 23,
      "outputs": [
        {
          "output_type": "stream",
          "text": [
            "WARNING:tensorflow:Layer lstm_9 will not use cuDNN kernel since it doesn't meet the cuDNN kernel criteria. It will use generic GPU kernel as fallback when running on GPU\n"
          ],
          "name": "stdout"
        }
      ]
    },
    {
      "cell_type": "code",
      "metadata": {
        "id": "bGCnQh3fglWd",
        "colab_type": "code",
        "colab": {
          "base_uri": "https://localhost:8080/",
          "height": 34
        },
        "outputId": "c5541ffc-75d8-43c1-9630-e312561252d5"
      },
      "source": [
        "model_c3=tf.keras.models.load_model('/content/drive/My Drive/product title classification/h_Models/model_c3/{}'.format(m3))"
      ],
      "execution_count": 24,
      "outputs": [
        {
          "output_type": "stream",
          "text": [
            "WARNING:tensorflow:Layer lstm_10 will not use cuDNN kernel since it doesn't meet the cuDNN kernel criteria. It will use generic GPU kernel as fallback when running on GPU\n"
          ],
          "name": "stdout"
        }
      ]
    },
    {
      "cell_type": "markdown",
      "metadata": {
        "id": "xHAhcGkxv_Sg",
        "colab_type": "text"
      },
      "source": [
        "# Prediction on test set"
      ]
    },
    {
      "cell_type": "code",
      "metadata": {
        "id": "OybRbxx-kyIC",
        "colab_type": "code",
        "colab": {
          "base_uri": "https://localhost:8080/",
          "height": 90
        },
        "outputId": "e6ee7f9a-e923-4ce9-a78b-d3ca3740ac8e"
      },
      "source": [
        "ynew_c1 = model_c1.predict_classes(test_X_c1)"
      ],
      "execution_count": 25,
      "outputs": [
        {
          "output_type": "stream",
          "text": [
            "WARNING:tensorflow:From <ipython-input-25-f22c59c0ceda>:1: Sequential.predict_classes (from tensorflow.python.keras.engine.sequential) is deprecated and will be removed after 2021-01-01.\n",
            "Instructions for updating:\n",
            "Please use instead:* `np.argmax(model.predict(x), axis=-1)`,   if your model does multi-class classification   (e.g. if it uses a `softmax` last-layer activation).* `(model.predict(x) > 0.5).astype(\"int32\")`,   if your model does binary classification   (e.g. if it uses a `sigmoid` last-layer activation).\n"
          ],
          "name": "stdout"
        }
      ]
    },
    {
      "cell_type": "code",
      "metadata": {
        "id": "p0Zu9fFIhFLK",
        "colab_type": "code",
        "colab": {}
      },
      "source": [
        "ynew_c2 = model_c2.predict_classes(test_X_c2)"
      ],
      "execution_count": 26,
      "outputs": []
    },
    {
      "cell_type": "code",
      "metadata": {
        "id": "bapp0lJwhJiT",
        "colab_type": "code",
        "colab": {}
      },
      "source": [
        "ynew_c3 = model_c3.predict_classes(test_X_c3)"
      ],
      "execution_count": 27,
      "outputs": []
    },
    {
      "cell_type": "code",
      "metadata": {
        "id": "f_XORyyqZ7AZ",
        "colab_type": "code",
        "colab": {}
      },
      "source": [
        "# show the inputs and predicted outputs\n",
        "for i in range(len(test_X_c1)):\n",
        "\tprint(\"%d --> X=%s, --> Predicted=%s, Actual=%s\" % (i, tCol_df_test['title'][i], labels_c1[ynew_c1[i]], tCol_df_test['c1'][i]))\n"
      ],
      "execution_count": null,
      "outputs": []
    },
    {
      "cell_type": "markdown",
      "metadata": {
        "id": "5muy0MHavJZX",
        "colab_type": "text"
      },
      "source": [
        "# Title Prediction on real time example"
      ]
    },
    {
      "cell_type": "code",
      "metadata": {
        "id": "0b0HA_SeyCaY",
        "colab_type": "code",
        "colab": {
          "base_uri": "https://localhost:8080/",
          "height": 87
        },
        "outputId": "b2592efd-caa3-4c1a-9004-5db80cf2ad2f"
      },
      "source": [
        "new_x=[]\n",
        "\n",
        "x = str(input(\"Enter the product title : \"))\n",
        "\n",
        "# title preprocessing\n",
        "new_x.append(x)\n",
        "seq = tokenizer.texts_to_sequences(new_x)\n",
        "padded = tf.keras.preprocessing.sequence.pad_sequences(seq, maxlen=MaxWordLength)\n",
        "\n",
        "# c1 prediction\n",
        "pred1 = model_c1.predict(padded)\n",
        "print('Category 1: ',labels_c1[np.argmax(pred1)])\n",
        "\n",
        "# concatenate title + c1\n",
        "new_x[0]=new_x[0]+' '+labels_c1[np.argmax(pred1)]\n",
        "\n",
        "# title + c1 preprocessing\n",
        "seq = tokenizer.texts_to_sequences(new_x)\n",
        "padded = tf.keras.preprocessing.sequence.pad_sequences(seq, maxlen=MaxWordLength)\n",
        "\n",
        "# c2 prediction\n",
        "pred2 = model_c2.predict(padded)\n",
        "print('Category 2: ',labels_c2[np.argmax(pred2)])\n",
        "\n",
        "# concatenate title + c1 + c2\n",
        "new_x[0]=new_x[0]+' '+labels_c2[np.argmax(pred2)]\n",
        "\n",
        "# title + c1 + c2 preprocessing\n",
        "seq = tokenizer.texts_to_sequences(new_x)\n",
        "padded = tf.keras.preprocessing.sequence.pad_sequences(seq, maxlen=MaxWordLength)\n",
        "\n",
        "# c3 prediction\n",
        "pred3 = model_c3.predict(padded)\n",
        "print('Category 3: ',labels_c3[np.argmax(pred3)])\n",
        "\n",
        "\n",
        "# pred[0][np.argmax(pred)"
      ],
      "execution_count": 28,
      "outputs": [
        {
          "output_type": "stream",
          "text": [
            "Enter the product title : pendant\n",
            "Category 1:  Watches Sunglasses Jewellery\n",
            "Category 2:  Jewellery\n",
            "Category 3:  Women\n"
          ],
          "name": "stdout"
        }
      ]
    },
    {
      "cell_type": "markdown",
      "metadata": {
        "id": "VxHuTiojuZaE",
        "colab_type": "text"
      },
      "source": [
        "# Model Evaluation"
      ]
    },
    {
      "cell_type": "code",
      "metadata": {
        "id": "Xqw9rsx3jgZ2",
        "colab_type": "code",
        "colab": {
          "base_uri": "https://localhost:8080/",
          "height": 336
        },
        "outputId": "ffa18254-c361-4749-9f21-50bf049e56db"
      },
      "source": [
        "acc = model_c1.evaluate(test_X_c1, test_Y_c1)\n",
        "ModelAccuracy1 = acc[1]\n",
        "print('ModelAccuracy for c1 =',round(acc[1],2)*100,'%')\n",
        "model_c1.summary()"
      ],
      "execution_count": 29,
      "outputs": [
        {
          "output_type": "stream",
          "text": [
            "370/370 [==============================] - 16s 44ms/step - loss: 0.2567 - accuracy: 0.9285\n",
            "ModelAccuracy for c1 = 93.0 %\n",
            "Model: \"sequential_8\"\n",
            "_________________________________________________________________\n",
            "Layer (type)                 Output Shape              Param #   \n",
            "=================================================================\n",
            "embedding_8 (Embedding)      (None, 50, 100)           2000000   \n",
            "_________________________________________________________________\n",
            "lstm_8 (LSTM)                (None, 512)               1255424   \n",
            "_________________________________________________________________\n",
            "dense_15 (Dense)             (None, 128)               65664     \n",
            "_________________________________________________________________\n",
            "dense_16 (Dense)             (None, 9)                 1161      \n",
            "=================================================================\n",
            "Total params: 3,322,249\n",
            "Trainable params: 3,322,249\n",
            "Non-trainable params: 0\n",
            "_________________________________________________________________\n"
          ],
          "name": "stdout"
        }
      ]
    },
    {
      "cell_type": "code",
      "metadata": {
        "id": "lSqdNH3IamcP",
        "colab_type": "code",
        "colab": {
          "base_uri": "https://localhost:8080/",
          "height": 336
        },
        "outputId": "d863b2b2-85f9-45c2-87ed-afccdb462280"
      },
      "source": [
        "acc = model_c2.evaluate(test_X_c2, test_Y_c2)\n",
        "ModelAccuracy2 = acc[1]\n",
        "print('ModelAccuracy for c2 =',round(acc[1],2)*100,'%')\n",
        "model_c2.summary()"
      ],
      "execution_count": 30,
      "outputs": [
        {
          "output_type": "stream",
          "text": [
            "370/370 [==============================] - 15s 40ms/step - loss: 0.4111 - accuracy: 0.8924\n",
            "ModelAccuracy for c2 = 89.0 %\n",
            "Model: \"sequential_9\"\n",
            "_________________________________________________________________\n",
            "Layer (type)                 Output Shape              Param #   \n",
            "=================================================================\n",
            "embedding_9 (Embedding)      (None, 50, 100)           2000000   \n",
            "_________________________________________________________________\n",
            "lstm_9 (LSTM)                (None, 512)               1255424   \n",
            "_________________________________________________________________\n",
            "dense_17 (Dense)             (None, 128)               65664     \n",
            "_________________________________________________________________\n",
            "dense_18 (Dense)             (None, 57)                7353      \n",
            "=================================================================\n",
            "Total params: 3,328,441\n",
            "Trainable params: 3,328,441\n",
            "Non-trainable params: 0\n",
            "_________________________________________________________________\n"
          ],
          "name": "stdout"
        }
      ]
    },
    {
      "cell_type": "code",
      "metadata": {
        "id": "mCIGHrw3alGh",
        "colab_type": "code",
        "colab": {
          "base_uri": "https://localhost:8080/",
          "height": 336
        },
        "outputId": "94871b88-859a-4254-f394-dc7feb0bbfaa"
      },
      "source": [
        "acc = model_c3.evaluate(test_X_c3, test_Y_c3)\n",
        "ModelAccuracy3 = acc[1]\n",
        "print('ModelAccuracy for c3 =',round(acc[1],2)*100,'%')\n",
        "model_c3.summary()"
      ],
      "execution_count": 31,
      "outputs": [
        {
          "output_type": "stream",
          "text": [
            "370/370 [==============================] - 15s 40ms/step - loss: 0.7172 - accuracy: 0.8148\n",
            "ModelAccuracy for c3 = 81.0 %\n",
            "Model: \"sequential_10\"\n",
            "_________________________________________________________________\n",
            "Layer (type)                 Output Shape              Param #   \n",
            "=================================================================\n",
            "embedding_10 (Embedding)     (None, 50, 100)           2000000   \n",
            "_________________________________________________________________\n",
            "lstm_10 (LSTM)               (None, 512)               1255424   \n",
            "_________________________________________________________________\n",
            "dense_19 (Dense)             (None, 256)               131328    \n",
            "_________________________________________________________________\n",
            "dense_20 (Dense)             (None, 185)               47545     \n",
            "=================================================================\n",
            "Total params: 3,434,297\n",
            "Trainable params: 3,434,297\n",
            "Non-trainable params: 0\n",
            "_________________________________________________________________\n"
          ],
          "name": "stdout"
        }
      ]
    },
    {
      "cell_type": "markdown",
      "metadata": {
        "id": "4euBvdWQw9FO",
        "colab_type": "text"
      },
      "source": [
        "## Overall Accuracy"
      ]
    },
    {
      "cell_type": "code",
      "metadata": {
        "id": "l94KVrFuUhXC",
        "colab_type": "code",
        "colab": {}
      },
      "source": [
        "from sklearn.metrics import accuracy_score\n",
        "from sklearn.metrics import precision_score\n",
        "from sklearn.metrics import recall_score\n",
        "from sklearn.metrics import f1_score\n",
        "from sklearn.metrics import cohen_kappa_score\n",
        "from sklearn.metrics import roc_auc_score\n",
        "from sklearn.metrics import confusion_matrix"
      ],
      "execution_count": 35,
      "outputs": []
    },
    {
      "cell_type": "code",
      "metadata": {
        "id": "dc14BmPIuhKn",
        "colab_type": "code",
        "colab": {
          "base_uri": "https://localhost:8080/",
          "height": 34
        },
        "outputId": "cdfc3e3d-f42f-4e69-d34e-1054e9f0a601"
      },
      "source": [
        "Overall_accuracy = ((ModelAccuracy1+ModelAccuracy2+ModelAccuracy3)/3)*100\n",
        "print(\"Overall Model accuracy is: \", round(Overall_accuracy,3),'%')"
      ],
      "execution_count": 32,
      "outputs": [
        {
          "output_type": "stream",
          "text": [
            "Overall Model accuracy is:  87.855 %\n"
          ],
          "name": "stdout"
        }
      ]
    },
    {
      "cell_type": "code",
      "metadata": {
        "id": "KN441pFJXaFX",
        "colab_type": "code",
        "colab": {
          "base_uri": "https://localhost:8080/",
          "height": 230
        },
        "outputId": "ac0bc42a-81a2-4ec9-e39a-abfda9717399"
      },
      "source": [
        "def y_conversion(y_onehot):\n",
        "    y_labels=[]\n",
        "    # print(y_onehot[0:15])\n",
        "    for i in y_onehot:\n",
        "        y_labels.append(np.argmax(i))\n",
        "    y_labels = np.asarray(y_labels)\n",
        "    # print(type(y_labels[0:15]), y_labels[0:15])\n",
        "    \n",
        "    return y_labels\n",
        "\n",
        "y1 = y_conversion(test_Y_c1)\n",
        "accuracy = accuracy_score(y1, ynew_c1)\n",
        "print(\"\\n----------for category 1----------\")\n",
        "print('Accuracy: %f' % accuracy)\n",
        "kappa = cohen_kappa_score(y1, ynew_c1)\n",
        "print('Cohens kappa: %f' % kappa)\n",
        "\n",
        "print(\"\\n----------for category 2----------\")\n",
        "y2 = y_conversion(test_Y_c2)\n",
        "accuracy = accuracy_score(y2, ynew_c2)\n",
        "print('Accuracy: %f' % accuracy)\n",
        "kappa = cohen_kappa_score(y2, ynew_c2)\n",
        "print('Cohens kappa: %f' % kappa)\n",
        "\n",
        "print(\"\\n----------for category 3----------\")\n",
        "y3 = y_conversion(test_Y_c3)\n",
        "accuracy = accuracy_score(y3, ynew_c3)\n",
        "print('Accuracy: %f' % accuracy)\n",
        "kappa = cohen_kappa_score(y3, ynew_c3)\n",
        "print('Cohens kappa: %f' % kappa)"
      ],
      "execution_count": 49,
      "outputs": [
        {
          "output_type": "stream",
          "text": [
            "\n",
            "----------for category 1----------\n",
            "Accuracy: 0.928451\n",
            "Cohens kappa: 0.917371\n",
            "\n",
            "----------for category 2----------\n",
            "Accuracy: 0.892380\n",
            "Cohens kappa: 0.884982\n",
            "\n",
            "----------for category 3----------\n",
            "Accuracy: 0.814834\n",
            "Cohens kappa: 0.808762\n"
          ],
          "name": "stdout"
        }
      ]
    },
    {
      "cell_type": "code",
      "metadata": {
        "id": "ODKMtgX_UCF6",
        "colab_type": "code",
        "colab": {}
      },
      "source": [
        "# accuracy: (tp + tn) / (p + n)\n",
        "# print(test_Y_c1[0], ynew_c1[0])\n",
        "\n",
        "# oh_yp1=pd.get_dummies(ynew_c1).values\n",
        "# print(\"test\\n\",test_Y_c1,oh_yp1)\n",
        "# m = tf.keras.metrics.Recall()\n",
        "# m.update_state(test_Y_c1, ynew_c1)\n",
        "# m.result().numpy()\n",
        "\n",
        "# accuracy = accuracy_score(y1, ynew_c1)\n",
        "# print('Accuracy: %f' % accuracy)\n",
        "# # precision tp / (tp + fp)\n",
        "# precision = precision_score(y1, ynew_c1, average=None)\n",
        "# print('Precision: %f' % precision)\n",
        "# # recall: tp / (tp + fn)\n",
        "# recall = recall_score(y1, ynew_c1)\n",
        "# print('Recall: %f' % recall)\n",
        "# f1: 2 tp / (2 tp + fp + fn)\n",
        "# f1 = f1_score(y1, ynew_c1, average='weighted')\n",
        "# print('F1 score: %f' % f1)\n",
        " \n",
        "\n",
        "# confusion matrix\n",
        "# matrix = confusion_matrix(test_Y_c1, oh_yp1)\n",
        "# print(matrix)"
      ],
      "execution_count": 47,
      "outputs": []
    },
    {
      "cell_type": "markdown",
      "metadata": {
        "id": "Qrnn5QpjvBwj",
        "colab_type": "text"
      },
      "source": [
        "# Loaded Model Architectures"
      ]
    },
    {
      "cell_type": "code",
      "metadata": {
        "id": "vjbr2YHE9GfG",
        "colab_type": "code",
        "colab": {
          "base_uri": "https://localhost:8080/",
          "height": 533
        },
        "outputId": "dcef44a3-7abc-49af-d438-4c494e767f8e"
      },
      "source": [
        "plot_model(model_c1, show_shapes=True)"
      ],
      "execution_count": 50,
      "outputs": [
        {
          "output_type": "execute_result",
          "data": {
            "image/png": "[encoded data removed]",
            "text/plain": [
              "<IPython.core.display.Image object>"
            ]
          },
          "metadata": {
            "tags": []
          },
          "execution_count": 50
        }
      ]
    },
    {
      "cell_type": "code",
      "metadata": {
        "id": "D-RchdTBEWdd",
        "colab_type": "code",
        "colab": {
          "base_uri": "https://localhost:8080/",
          "height": 533
        },
        "outputId": "72195860-e9c6-498e-ead8-8832a58a8020"
      },
      "source": [
        "plot_model(model_c2, show_shapes=True)"
      ],
      "execution_count": 51,
      "outputs": [
        {
          "output_type": "execute_result",
          "data": {
            "image/png": "[encoded data removed]",
            "text/plain": [
              "<IPython.core.display.Image object>"
            ]
          },
          "metadata": {
            "tags": []
          },
          "execution_count": 51
        }
      ]
    },
    {
      "cell_type": "code",
      "metadata": {
        "id": "UjleL9zWEXQN",
        "colab_type": "code",
        "colab": {
          "base_uri": "https://localhost:8080/",
          "height": 533
        },
        "outputId": "01fac131-d42f-4e5f-af6c-d644bd02ebd7"
      },
      "source": [
        "plot_model(model_c3, show_shapes=True)"
      ],
      "execution_count": 52,
      "outputs": [
        {
          "output_type": "execute_result",
          "data": {
            "image/png": "[encoded data removed]",
            "text/plain": [
              "<IPython.core.display.Image object>"
            ]
          },
          "metadata": {
            "tags": []
          },
          "execution_count": 52
        }
      ]
    },
    {
      "cell_type": "code",
      "metadata": {
        "id": "AC3siImp-fo7",
        "colab_type": "code",
        "colab": {}
      },
      "source": [
        ""
      ],
      "execution_count": 52,
      "outputs": []
    }
  ]
}